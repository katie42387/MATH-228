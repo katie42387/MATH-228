{
 "cells": [
  {
   "cell_type": "markdown",
   "metadata": {},
   "source": [
    "## Introduction to Graphs (and Python)\n",
    "\n",
    "Today we will introduce ourselves to graphs and also to some tricks in Python for working with graphs. You can open this notebook file by donwloading it to your local computer and openning it with Jupyter, or if you have a Jupyter Hub you can download it there using git (instructions in Canvas)."
   ]
  },
  {
   "cell_type": "code",
   "execution_count": null,
   "metadata": {},
   "outputs": [],
   "source": [
    "import os\n",
    "import pip\n",
    "try:\n",
    "    import networkx as nx\n",
    "except ImportError:\n",
    "    os.system('pip install networkx')\n",
    "    import networkx as nx"
   ]
  },
  {
   "cell_type": "code",
   "execution_count": null,
   "metadata": {},
   "outputs": [],
   "source": [
    "try:\n",
    "    import matplotlib.pyplot as plt\n",
    "except ImportError:\n",
    "    os.system('pip install matplotlib')\n",
    "    import matplotlib.pyplot as plt"
   ]
  },
  {
   "cell_type": "markdown",
   "metadata": {},
   "source": [
    "## Example 1\n",
    "\n",
    "One example of graphs we are all familiar with now are social networks. Consider a small example:  Alicia, Bob, Catlyn, and Diana are on Tweetbook. Alicia and Bob both follow Catlyn and Diana follows all three of the others. Let's represent this relationship graphically:"
   ]
  },
  {
   "cell_type": "code",
   "execution_count": null,
   "metadata": {},
   "outputs": [],
   "source": [
    "# Python has some tools for doing this \n",
    "# (which is great as your instructor is not very good at drawing)\n",
    "\n",
    "G = nx.Graph() # Create Python \"Graph\" object"
   ]
  },
  {
   "cell_type": "code",
   "execution_count": null,
   "metadata": {},
   "outputs": [],
   "source": [
    "G.add_nodes_from(['A', 'B', 'C', 'D'])  # We create a collection of nodes or vertices\n",
    "\n",
    "G.add_edges_from( [('A', 'C'), ('B', 'C'), ('D', 'A'), ('D', 'B'), ('D', 'C')]) \n",
    "# We specify which vertices are related or adjacent to each other"
   ]
  },
  {
   "cell_type": "code",
   "execution_count": null,
   "metadata": {},
   "outputs": [],
   "source": [
    "# We can check that all of the data is there\n",
    "G.number_of_nodes(), G.number_of_edges()"
   ]
  },
  {
   "cell_type": "code",
   "execution_count": null,
   "metadata": {},
   "outputs": [],
   "source": [
    "# We can draw our Graph\n",
    "nx.draw(G)"
   ]
  },
  {
   "cell_type": "markdown",
   "metadata": {},
   "source": [
    "Questions:  \n",
    "\n",
    "1. Which vertix is Diana, and why?\n",
    "2. Which vertix is Charlie, and why?"
   ]
  },
  {
   "cell_type": "code",
   "execution_count": null,
   "metadata": {},
   "outputs": [],
   "source": [
    "nx.draw(G, with_labels=True)"
   ]
  },
  {
   "cell_type": "markdown",
   "metadata": {},
   "source": [
    "What is missing in our problem from this representation?"
   ]
  },
  {
   "cell_type": "code",
   "execution_count": null,
   "metadata": {},
   "outputs": [],
   "source": [
    "# A direction graph or digraph would include the direction of the relationship\n",
    "\n",
    "G = nx.DiGraph()\n",
    "G.add_nodes_from(['A', 'B', 'C', 'D'])  # We create a collection of nodes or vertices\n",
    "\n",
    "G.add_edges_from( [('A', 'C'), ('B', 'C'), ('D', 'A'), ('D', 'B'), ('D', 'C')]) \n",
    "# We specify which vertices are related or adjacent to each other; \n",
    "# note that now which vertex is listed first in each pair is important ('A', 'B') is not\n",
    "# the same as ('B', 'A')"
   ]
  },
  {
   "cell_type": "code",
   "execution_count": null,
   "metadata": {},
   "outputs": [],
   "source": [
    "# We can draw our directed graph\n",
    "nx.draw(G)"
   ]
  },
  {
   "cell_type": "markdown",
   "metadata": {},
   "source": [
    "Some definitions for us:\n",
    "\n",
    "- **Graph** is going to mean an undirected graph with no more than one edge connecting two vertices.\n",
    "- **Directed Graph** or *Digraph* is a graph with edges that have direction\n",
    "- **Multi Graph** is a graph with possible more than one edge connecting two vertices or where loops are allowed (loops are edges that connect a vertex to itself)\n",
    "- **Weighted Graph** is a graph where the edges have numbers attached to them"
   ]
  },
  {
   "cell_type": "markdown",
   "metadata": {},
   "source": [
    "## Example 2\n",
    "\n",
    "A circuit board designed is laying out 4 chips that need to be connected to 4 inputs to the board. Let's draw a graph that captures this"
   ]
  },
  {
   "cell_type": "code",
   "execution_count": null,
   "metadata": {},
   "outputs": [],
   "source": [
    "G = nx.Graph()\n",
    "\n",
    "# In this case we have two types of nodes - chips and inputs\n",
    "G.add_nodes_from(['A', 'B', 'C', 'D', 1, 2, 3, 4])\n",
    "\n",
    "# Each input is connected to each node\n",
    "G.add_edges_from([('A', 1), ('A', 2), ('A', 3), ('A', 4),\n",
    "                  ('B', 1), ('B', 2), ('B', 3), ('B', 4), \n",
    "                  ('C', 1), ('C', 2), ('C', 3), ('C', 4), \n",
    "                  ('D', 1), ('D', 2), ('D', 3), ('D', 4), \n",
    "                ])"
   ]
  },
  {
   "cell_type": "code",
   "execution_count": null,
   "metadata": {},
   "outputs": [],
   "source": [
    "nx.draw(G, with_labels = True)"
   ]
  },
  {
   "cell_type": "markdown",
   "metadata": {},
   "source": [
    "Some definitions:\n",
    "\n",
    "1. The **degree** of a vertex is the number of edges coming in to it. What is the degree of each vertex in this graph?\n",
    "2. This graph is special. It is **bipartite**, the vertices can be divided into two sets that are not themselves interconnected. \n",
    "3. One way to think aobut a graph being *bipartite* is that we could **color** the vertices two different colors so that no two vertices of the same coloring are together. One color could be 'Chip' and one color could be 'Input'"
   ]
  },
  {
   "cell_type": "code",
   "execution_count": null,
   "metadata": {},
   "outputs": [],
   "source": [
    "# Python can check if a graph is bipartite or not\n",
    "\n",
    "nx.is_bipartite(G)"
   ]
  },
  {
   "cell_type": "code",
   "execution_count": null,
   "metadata": {},
   "outputs": [],
   "source": [
    "# nodes\n",
    "# options = {\"node_size\": 500, \"alpha\": 0.8}\n",
    "\n",
    "# Have Python identify where it will draw the nodes\n",
    "pos = nx.spring_layout(G) \n",
    "\n",
    "# Specify the colors for the edges. There are algorithms for doing this, but in this case \n",
    "# because of the structure of the problem, we know the coloring.\n",
    "nx.draw_networkx_nodes(G, pos, nodelist=['A', 'B', 'C', 'D'], node_color=\"r\")\n",
    "nx.draw_networkx_nodes(G, pos, nodelist=[1, 2, 3, 4], node_color=\"b\")\n",
    "\n",
    "# Draw the edges\n",
    "nx.draw_networkx_edges(G, pos, width=1.0, alpha=0.5);"
   ]
  },
  {
   "cell_type": "markdown",
   "metadata": {},
   "source": [
    "Finally note an interesting question about this graph. Because the connections on circuit boards are made by laying conductor on the board, we can only design boards where the paths between two nodes do not cross. The question becomes for the graph, could we draw it so that the edges do not cross?\n",
    "\n",
    "A graph is called **planar** if there is a way to draw it so that the edges do not cross. "
   ]
  },
  {
   "cell_type": "markdown",
   "metadata": {},
   "source": [
    "### Example 3\n",
    "\n",
    "Maps are very closely related to graphs. Consider the counties of Colorado.\n",
    "\n",
    "<img src=\"https://www.uncovercolorado.com/wp-content/uploads/2013/12/Map-Colorado-Counties-1200px.png\" width=500/>\n",
    "\n",
    "Note that we could say that two counties are related if they share a border."
   ]
  },
  {
   "cell_type": "code",
   "execution_count": null,
   "metadata": {},
   "outputs": [],
   "source": [
    "G = nx.Graph()\n",
    "\n",
    "# This is tedious to do completely, so lets just take the north front range counties:\n",
    "G.add_nodes_from(['Larimer', 'Weld', 'Boulder', 'Broomfield', 'Adams', 'Arapahoe', 'Boulder', 'Denver', 'Jefferson',\n",
    "                 'Douglas'])\n",
    "\n",
    "# counties that share a border are connected\n",
    "G.add_edges_from([('Larimer', 'Weld'), ('Larimer', 'Boulder'), ('Weld', 'Adams'), \n",
    "                  ('Weld', 'Broomfield'), ('Weld', 'Boulder'), ('Adamas', 'Arapahoe'), \n",
    "                  ('Adams', 'Denver'), ('Adams', 'Broomfield'), ('Broomfield', 'Jefferson'),\n",
    "                  ('Broomfield', 'Boulder'), ('Boulder', 'Jefferson'), ('Jefferson', 'Denver'), \n",
    "                  ('Jefferson', 'Arapahoe'),\n",
    "                  ('Jefferson', 'Douglas'), ('Denver', 'Araphahoe'), \n",
    "                 ('Arapahoe', 'Douglas'), \n",
    "                ])"
   ]
  },
  {
   "cell_type": "code",
   "execution_count": null,
   "metadata": {
    "scrolled": true
   },
   "outputs": [],
   "source": [
    "nx.draw(G)"
   ]
  },
  {
   "cell_type": "markdown",
   "metadata": {},
   "source": [
    "A classic question in Graph Theory:  How many colors do you need at a minimum, to color this graph so that no two vertices connected by an edge have the same color?\n",
    "\n",
    "- Can you do it with 2?  How or Why not?\n",
    "- Can you do it with 3?  How or Why not?\n",
    "- Can you do it with 4?  How or Why not?"
   ]
  },
  {
   "cell_type": "markdown",
   "metadata": {},
   "source": [
    "## Example 4\n",
    "\n",
    "There are 25 students in a discrete mathematics class on the first day of class. None of them has more than three friends in the class. Is it possible for the teacher to divide them into 4 study groups so that no study group contains students who were already friends?"
   ]
  },
  {
   "cell_type": "markdown",
   "metadata": {},
   "source": [
    "## Example 5\n",
    "\n",
    "Is it possible for our discrete mathematics class with 25 students to be arranged so that every student in the class is friends with exactly three other students in the class?"
   ]
  },
  {
   "cell_type": "markdown",
   "metadata": {},
   "source": [
    "## Degree Sequence\n",
    "\n",
    "We can try to classify graphs by giving their degree sequence. For example the adjacency graph for the North Front Range counties in Colorado has degree sequence:"
   ]
  },
  {
   "cell_type": "code",
   "execution_count": null,
   "metadata": {},
   "outputs": [],
   "source": [
    "import numpy\n",
    "list(numpy.sort([G.degree[county] for county in G.nodes]))"
   ]
  },
  {
   "cell_type": "markdown",
   "metadata": {},
   "source": [
    "### Examples 6.1 - 6.3\n",
    "\n",
    "- Some degree sequences are impossible:  [3, 3, 3]\n",
    "- Some degree sequences give a unique graph: [1, 2, 1]\n",
    "- Some degree sequences give multiple possible graphs: [2, 2, 2, 2, 2, 2]"
   ]
  },
  {
   "cell_type": "code",
   "execution_count": null,
   "metadata": {},
   "outputs": [],
   "source": []
  },
  {
   "cell_type": "markdown",
   "metadata": {},
   "source": [
    "## Special Graphs\n",
    "\n",
    "Some graphs are special enough they have a name. \n",
    "\n",
    "- The Cycle Graph $C_n$ is formed by n vertices connected in closed loop of edges."
   ]
  },
  {
   "cell_type": "code",
   "execution_count": null,
   "metadata": {},
   "outputs": [],
   "source": []
  },
  {
   "cell_type": "markdown",
   "metadata": {},
   "source": [
    "- The Path Graph of $P_n$ is formed by n vertices in a path that does not close"
   ]
  },
  {
   "cell_type": "code",
   "execution_count": null,
   "metadata": {},
   "outputs": [],
   "source": []
  },
  {
   "cell_type": "markdown",
   "metadata": {},
   "source": [
    "A graph is **complete** if every vertex is connected to every other vertex.\n",
    "\n",
    "- The complete graph on n elements is $K_n$"
   ]
  },
  {
   "cell_type": "code",
   "execution_count": null,
   "metadata": {},
   "outputs": [],
   "source": []
  },
  {
   "cell_type": "markdown",
   "metadata": {},
   "source": [
    "- More generally we will use $K_{n, m}$ to be the complete bipartite graph of size (n, m) where n vertices are connected to each of the other m vertices but not to each other and vice versa."
   ]
  },
  {
   "cell_type": "code",
   "execution_count": null,
   "metadata": {},
   "outputs": [],
   "source": []
  },
  {
   "cell_type": "code",
   "execution_count": null,
   "metadata": {},
   "outputs": [],
   "source": []
  },
  {
   "cell_type": "code",
   "execution_count": null,
   "metadata": {},
   "outputs": [],
   "source": []
  }
 ],
 "metadata": {
  "kernelspec": {
   "display_name": "Python 3",
   "language": "python",
   "name": "python3"
  },
  "language_info": {
   "codemirror_mode": {
    "name": "ipython",
    "version": 3
   },
   "file_extension": ".py",
   "mimetype": "text/x-python",
   "name": "python",
   "nbconvert_exporter": "python",
   "pygments_lexer": "ipython3",
   "version": "3.7.3"
  }
 },
 "nbformat": 4,
 "nbformat_minor": 2
}
