{
 "cells": [
  {
   "cell_type": "markdown",
   "metadata": {},
   "source": [
    "# 1.3 Sets\n",
    "\n",
    "A **Set** is an unordered collection of objects (with the convention that the same object cannot appear twice). Our notation for sets is \n",
    "\n",
    "$$ A = \\{ 1, 2, 3 \\} $$\n",
    "\n",
    "Read as \"The set of 1, 2, and 3.\"\n",
    "\n",
    "Note that order does not matter and so we have\n",
    "\n",
    "$$ \\{ 1, 2, 3 \\} = \\{ 2, 1, 3\\} $$\n",
    "\n",
    "Sets are distinct from lists, arrays, or sequences, which are constructiosn for which order matters.\n",
    "\n",
    "Python has an object called a *set* and it is the same as our Mathematical one."
   ]
  },
  {
   "cell_type": "code",
   "execution_count": 2,
   "metadata": {},
   "outputs": [
    {
     "data": {
      "text/plain": [
       "{'cat', 'cow', 'dog', 'goat'}"
      ]
     },
     "execution_count": 2,
     "metadata": {},
     "output_type": "execute_result"
    }
   ],
   "source": [
    "A = {'dog', 'cat', 'goat', 'cow'}\n",
    "A"
   ]
  },
  {
   "cell_type": "markdown",
   "metadata": {},
   "source": [
    "Sets can even contain other sets:\n",
    "\n",
    "$$ A = \\{ x, y, \\{a, b, c\\}, \\emptyset, 0 \\} $$\n",
    "\n",
    "This set contains x, y, the set {a, b, c}, and something we call the empty set, and the number 0.\n",
    "\n",
    "Note that the **Empty Set** ( $\\emptyset $ ) is the set that contains no elements $\\{ \\}$.\n",
    "\n",
    "We can test if an object is a member of a set for example $$ x\\in A$$ and $$a \\notin A$$\n",
    "\n",
    "Note why a is not in A...\n",
    "\n",
    "We can also do this in Python. First we can define a simple set and check for inclusion:"
   ]
  },
  {
   "cell_type": "code",
   "execution_count": 10,
   "metadata": {},
   "outputs": [
    {
     "data": {
      "text/plain": [
       "{1, 3, 5, 7}"
      ]
     },
     "execution_count": 10,
     "metadata": {},
     "output_type": "execute_result"
    }
   ],
   "source": [
    "A = {1, 3, 5, 7}\n",
    "A"
   ]
  },
  {
   "cell_type": "code",
   "execution_count": 12,
   "metadata": {},
   "outputs": [
    {
     "data": {
      "text/plain": [
       "(True, False)"
      ]
     },
     "execution_count": 12,
     "metadata": {},
     "output_type": "execute_result"
    }
   ],
   "source": [
    "5 in A, 10 in A"
   ]
  },
  {
   "cell_type": "markdown",
   "metadata": {},
   "source": [
    "**Read the following only if you want to**\n",
    "\n",
    "However because of the way that Python represents sets, we can only make sets of immutable objects (the algorithm for checking \"in\" would break if we allowed mutable objects). Sets themselves are mutable objects (they can be changed after they are created). What we need to do is use a frozen set which is immutable for the inside sets."
   ]
  },
  {
   "cell_type": "code",
   "execution_count": 13,
   "metadata": {},
   "outputs": [
    {
     "data": {
      "text/plain": [
       "{0, frozenset(), frozenset({'a', 'b', 'c'}), 'x', 'y'}"
      ]
     },
     "execution_count": 13,
     "metadata": {},
     "output_type": "execute_result"
    }
   ],
   "source": [
    "A = {'x', 'y', frozenset({'a', 'b', 'c'}), frozenset({}), 0}\n",
    "A"
   ]
  },
  {
   "cell_type": "code",
   "execution_count": 14,
   "metadata": {},
   "outputs": [
    {
     "data": {
      "text/plain": [
       "(True, False, True)"
      ]
     },
     "execution_count": 14,
     "metadata": {},
     "output_type": "execute_result"
    }
   ],
   "source": [
    "'x' in A, 'a' in A, frozenset({}) in A"
   ]
  },
  {
   "cell_type": "markdown",
   "metadata": {},
   "source": [
    "## Example 1\n",
    "\n",
    "Describe the set: $$\\{ x: 2x \\in \\mathbb{N} \\}$$"
   ]
  },
  {
   "cell_type": "markdown",
   "metadata": {},
   "source": [
    "## Example 2\n",
    "\n",
    "Determine whether the two sets are equal or not:\n",
    "$$ \\{ x \\in \\mathbb{R} : x^2 \\in \\mathbb{N} \\} = \\{ \\sqrt{x} : x \\in \\mathbb{N} \\} $$"
   ]
  },
  {
   "cell_type": "markdown",
   "metadata": {},
   "source": [
    "## Example 3\n",
    "\n",
    "The **Power Set** of a set is the set of all subsets. Find the power set $ \\mathcal{P}(A)$ of $A = \\{ 1, 2, 3 \\}$.\n",
    "\n",
    "- We denote that B is a subset of A by $$B\\subseteq A$$.\n",
    "- If B is a strict subset of A, i.e. it is not equal to A, we could say: $$ B \\subset A$$\n"
   ]
  },
  {
   "cell_type": "markdown",
   "metadata": {},
   "source": [
    "## Example 4\n",
    "\n",
    "The **union** of two sets is the collection of all elements that are in one set or the other. Find the union\n",
    "\n",
    "$$ \\{ 1, 4, 7, 10 \\} \\cup \\{ 4, 6, 8, 10 \\} $$"
   ]
  },
  {
   "cell_type": "code",
   "execution_count": 17,
   "metadata": {},
   "outputs": [
    {
     "data": {
      "text/plain": [
       "{'bird', 'cat', 'dog', 'hyena', 'wolf'}"
      ]
     },
     "execution_count": 17,
     "metadata": {},
     "output_type": "execute_result"
    }
   ],
   "source": [
    "# In Python\n",
    "\n",
    "A = {'dog', 'cat', 'bird'}\n",
    "B = {'dog', 'wolf', 'hyena'}\n",
    "A.union(B)"
   ]
  },
  {
   "cell_type": "markdown",
   "metadata": {},
   "source": [
    "## Example 5\n",
    "\n",
    "The **intersection** of two sets is the collection of all elements that are in both sets. Find the intersection\n",
    "\n",
    "$$ \\{ 1, 4, 7, 10\\} \\cap \\{ 4, 6, 8, 10 \\} $$"
   ]
  },
  {
   "cell_type": "code",
   "execution_count": 18,
   "metadata": {},
   "outputs": [
    {
     "data": {
      "text/plain": [
       "{'dog'}"
      ]
     },
     "execution_count": 18,
     "metadata": {},
     "output_type": "execute_result"
    }
   ],
   "source": [
    "# In Python\n",
    "\n",
    "A = {'dog', 'cat', 'bird'}\n",
    "B = {'dog', 'wolfr', 'hyena'}\n",
    "A.intersection(B)"
   ]
  },
  {
   "cell_type": "markdown",
   "metadata": {},
   "source": [
    "## Conventions\n",
    "\n",
    "Note that one special case to watch out for is that the empty set is consider a subset of any set, but not necessarily an element."
   ]
  },
  {
   "cell_type": "markdown",
   "metadata": {},
   "source": [
    "## Example 6\n",
    "\n",
    "The **Cardinality** of a finite set is the number of elements it contains. We will need to put off until later classes you take the issue of cardinality of infinite sets. Find the cardinality:\n",
    "\n",
    "$$ \\left\\{ x : x \\in \\mathbb{N} \\quad \\mbox{and} \\quad\n",
    "      x < 50 \\quad \\mbox{and}\\quad \\sqrt{x} \\in \\mathbb{N} \\right\\} $$"
   ]
  },
  {
   "cell_type": "markdown",
   "metadata": {},
   "source": [
    "## Example 7\n",
    "\n",
    "For a set that is a subset of some universal set, we can define the **complement** of the set to be those elements that are not in the set. Suppose we are working with the set of natural numbers $\\mathbb{N}$ as our universal set. Let\n",
    "\n",
    "$$A = \\left\\{ 2n : n \\in \\mathbb{N} \\right\\} $$\n",
    "\n",
    "and find the complement $$\\bar{A}$$"
   ]
  },
  {
   "cell_type": "markdown",
   "metadata": {},
   "source": [
    "## Example 8\n",
    "\n",
    "Show that the intersection $$ A\\cap \\bar{B}$$ is what we should think of as A minus B."
   ]
  },
  {
   "cell_type": "markdown",
   "metadata": {},
   "source": [
    "## Example 9\n",
    "\n",
    "The **Cartesian Product** of two sets is the set of all pairs of elements from the two sets:\n",
    "\n",
    "$$ A \\times B = \\{ (a, b) : a \\in A \\quad\\mbox{and}\\quad b \\in B \\} $$\n",
    "\n",
    "Find the cartesian product:\n",
    "\n",
    "$$ \\{ 1, 2, 3 \\} \\times \\{ 4, 5 \\} $$"
   ]
  },
  {
   "cell_type": "markdown",
   "metadata": {},
   "source": [
    "## Example 10\n",
    "\n",
    "Suppose $|A| = 10$ and $|B| = 25$, what will be $|A\\times B|$?"
   ]
  },
  {
   "cell_type": "markdown",
   "metadata": {},
   "source": [
    "## Example 11\n",
    "\n",
    "Suppose $|A| = 10$, what will be $|\\mathcal{P}(A)|$?"
   ]
  },
  {
   "cell_type": "markdown",
   "metadata": {},
   "source": [
    "# 1.4 Functions\n",
    "\n",
    "Functions are rules between two sets relating every input element to exactly one output element. Note, the Python definition of a function is quite a bit broader, however I have found that thinking in terms of a programming function is really helpful in imagining what a mathematical function could be.\n",
    "\n",
    "Given a set of inputs $X$, and outputs $Y$ we say that $$ f: X\\to Y$$. \n",
    "\n",
    "For example $f(x) = x^2 + 5$ is a function from $\\mathbb{N}$ to $\\mathbb{N}$. (note that we do not necessarily need to realize every output."
   ]
  },
  {
   "cell_type": "markdown",
   "metadata": {},
   "source": [
    "## Example 12\n",
    "\n",
    "Give some examples of things that seem to be rules from an input set to an output set, but that are not functions."
   ]
  },
  {
   "cell_type": "markdown",
   "metadata": {},
   "source": [
    "## Example 13\n",
    "\n",
    "Our book gives lots of examples of how we can define and represent functions. I want to focus on one you may not be very familiar with. A **recursively** defined function is a function that uses itself in its definition.\n",
    "\n",
    "For example given $$ f: \\mathbb{N} \\to \\mathbb{N}$$ defined by $f(0) = 4$ and \n",
    "\n",
    "$$ f(n+1) = 2 f(n) + 1$$ \n",
    "\n",
    "Find f(5)."
   ]
  },
  {
   "cell_type": "markdown",
   "metadata": {},
   "source": [
    "Note that recursive functions are a very important programing technique. Take CS 301 with me in the Spring if you would like to learn more about why this technique is so important. For now though note we can solve Example 13 with a Python Function:"
   ]
  },
  {
   "cell_type": "code",
   "execution_count": 19,
   "metadata": {},
   "outputs": [
    {
     "data": {
      "text/plain": [
       "159"
      ]
     },
     "execution_count": 19,
     "metadata": {},
     "output_type": "execute_result"
    }
   ],
   "source": [
    "def f(n):\n",
    "    \n",
    "    if n==0:\n",
    "        return 4\n",
    "    else:\n",
    "        return 2*f(n-1) +1\n",
    "    \n",
    "f(5)"
   ]
  },
  {
   "cell_type": "markdown",
   "metadata": {},
   "source": [
    "## Example 14\n",
    "\n",
    "A function is **surjective** if every output is realized for at least one input. Note that multiple inputs might map to the same output.\n",
    "\n",
    "Show that the function given by the table is surjective to the set $\\{ a, b, c\\}$\n",
    "\n",
    "| x | 1 | 2 | 3 | 4 |\n",
    "| --- | --- | --- | --- | --- |\n",
    "| g(x) | a | b | c | a |"
   ]
  },
  {
   "cell_type": "markdown",
   "metadata": {},
   "source": [
    "## Example 15\n",
    "\n",
    "A function is **injective** if every input is taken to a unique output. \n",
    "\n",
    "I.e. if $f:X\\to Y$ is injective, then given $a, b \\in X$ if $f(a)= f(b)$ then $a=b$.\n",
    "\n",
    "Show that $f(x) = 2x$ from $\\mathbb{N}$ to $\\mathbb{N}$ is injective."
   ]
  },
  {
   "cell_type": "markdown",
   "metadata": {},
   "source": [
    "## Example 16\n",
    "\n",
    "The image of a function is the set of all outputs it actually achieves. For example, given $f(x) = 2x $ from $\\mathbb{N}$ to $\\mathbb{N}$, find the image\n",
    "\n",
    "$$ f( \\{ 2n: n\\in \\mathbb{N} \\} )$$ \n",
    "\n",
    "Note that while the output of a function is an *element* of the range; the image of a function is a *subset* of the range."
   ]
  },
  {
   "cell_type": "markdown",
   "metadata": {},
   "source": [
    "## Example 17\n",
    "\n",
    "The inverse image of a function is the set of all inputs that map to the set. For example given f(x) = 2x from $\\mathbb{N}$ to $\\mathbb{N}$, find the inverse image\n",
    "\n",
    "$$f^{-1}( { n \\in\\mathbb{N}: n< 10}) $$"
   ]
  },
  {
   "cell_type": "markdown",
   "metadata": {},
   "source": [
    "## Inverses versus Inverse Images\n",
    "\n",
    "Note that unless a function is **bijective** (injective and surjective) it does not really make sense to talk about its inverse (we of course abuse notation a lot in mathematics and pretend like it is no big deal). \n",
    "\n",
    "However, note that the inverse image, is take a subset of the range to a subset of the domain and thus we do not need an injective function for it to make sense."
   ]
  },
  {
   "cell_type": "code",
   "execution_count": null,
   "metadata": {},
   "outputs": [],
   "source": []
  }
 ],
 "metadata": {
  "kernelspec": {
   "display_name": "Python 3",
   "language": "python",
   "name": "python3"
  },
  "language_info": {
   "codemirror_mode": {
    "name": "ipython",
    "version": 3
   },
   "file_extension": ".py",
   "mimetype": "text/x-python",
   "name": "python",
   "nbconvert_exporter": "python",
   "pygments_lexer": "ipython3",
   "version": "3.7.4"
  }
 },
 "nbformat": 4,
 "nbformat_minor": 2
}
